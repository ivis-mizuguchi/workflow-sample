{
 "cells": [
  {
   "cell_type": "markdown",
   "id": "91317c09",
   "metadata": {},
   "source": [
    "# データガバナンス機能への書き戻し用ノートブック\n",
    "\n",
    "これはコード付帯機能上での変更を、データガバナンス機能へ書き戻すためのノートブックです。  \n",
    "システムによってパラメタライズされるため、手動での実行は非推奨です。"
   ]
  },
  {
   "cell_type": "code",
   "execution_count": null,
   "id": "9768d559",
   "metadata": {
    "tags": [
     "parameters"
    ]
   },
   "outputs": [],
   "source": [
    "# These parameters are override by papermill\n",
    "CWD = \"\"\n",
    "SIBLING_NAME = \"\"\n",
    "DEFAULT_BRANCH = \"\"\n",
    "HTTP_HOST = \"\"\n",
    "SSH_HOST = \"\"\n",
    "\n",
    "save_path = \"\"\n",
    "save_message = \"\""
   ]
  },
  {
   "cell_type": "code",
   "execution_count": null,
   "id": "1d4460d7",
   "metadata": {},
   "outputs": [],
   "source": [
    "import os\n",
    "\n",
    "os.chdir(CWD)"
   ]
  },
  {
   "cell_type": "code",
   "execution_count": null,
   "id": "0ebbd6ab",
   "metadata": {},
   "outputs": [],
   "source": [
    "from datalad import api\n",
    "\n",
    "api.save(path=save_path, message=save_message)"
   ]
  },
  {
   "cell_type": "code",
   "execution_count": null,
   "id": "c11cc230",
   "metadata": {},
   "outputs": [],
   "source": [
    "%%sh\n",
    "chmod 600 /home/jovyan/.ssh/id_rsa"
   ]
  },
  {
   "cell_type": "code",
   "execution_count": 4,
   "id": "2e65bb1a",
   "metadata": {},
   "outputs": [],
   "source": [
    "%%sh\n",
    "mkdir ./tmp\n",
    "git remote show origin > ./tmp/remote.txt"
   ]
  },
  {
   "cell_type": "code",
   "execution_count": null,
   "id": "b47e43d6",
   "metadata": {},
   "outputs": [],
   "source": [
    "from datalad import api\n",
    "\n",
    "# SSHでの接続URLを生成\n",
    "with open('./tmp/remote.txt', 'r') as f:\n",
    "    lines = [s.strip() for s in f.readlines()]\n",
    "    ssh_remote = lines[2].replace('Push  URL: '+HTTP_HOST, SSH_HOST)\n",
    "\n",
    "try:\n",
    "    api.siblings(action='add', name=SIBLING_NAME, url=ssh_remote)\n",
    "except:\n",
    "    pass\n",
    "\n",
    "api.push(to=SIBLING_NAME, result_renderer='default')"
   ]
  },
  {
   "cell_type": "code",
   "execution_count": null,
   "id": "7801328d",
   "metadata": {},
   "outputs": [],
   "source": [
    "%%sh\n",
    "rm -r ./tmp"
   ]
  }
 ],
 "metadata": {
  "celltoolbar": "Tags",
  "kernelspec": {
   "display_name": "Python 3",
   "language": "python",
   "name": "python3"
  },
  "language_info": {
   "codemirror_mode": {
    "name": "ipython",
    "version": 3
   },
   "file_extension": ".py",
   "mimetype": "text/x-python",
   "name": "python",
   "nbconvert_exporter": "python",
   "pygments_lexer": "ipython3",
   "version": "3.8.12"
  },
  "papermill": {
   "environment_variables": {},
   "parameters": {
    "CWD": "/home/jovyan",
    "DEFAULT_BRANCH": "origin",
    "HTTP_HOST": "http://dg02.dg.rcos.nii.ac.jp/",
    "SIBLING_NAME": "gin",
    "SSH_HOST": "ssh://root@dg02.dg.rcos.nii.ac.jp:3001/",
    "product": "/home/jovyan/csv_pipeline/workflow_output/push_log.ipynb",
    "save_message": "update: modify on binder",
    "save_path": "csv_pipeline",
    "upstream": {
     "code_C": {
      "data": "/home/jovyan/csv_pipeline/output/output_C.csv",
      "nb": "/home/jovyan/csv_pipeline/output/log_code_C.ipynb"
     }
    }
   },
   "version": null
  }
 },
 "nbformat": 4,
 "nbformat_minor": 5
}
