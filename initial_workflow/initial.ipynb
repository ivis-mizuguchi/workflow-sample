{
 "cells": [
  {
   "cell_type": "markdown",
   "id": "278f90c1",
   "metadata": {},
   "source": [
    "# 研究リポジトリのセットアップ\n",
    "\n",
    "NII-GIN(仮）へようこそ！ここでは、入力いただいたDMP情報に基づき、\n",
    "あなたの研究リポジトリを初期化します。\n",
    "\n",
    "## 1. 作業用ディレクトリの作成\n",
    "\n",
    "- 上部のツールバーにある「Run」ボタンをクリックすることで以下のセルを実行すると、DMPに入力いただいた研究情報に基づき、システムが作業用のディレクトリを作成します。\n",
    "　　"
   ]
  },
  {
   "cell_type": "code",
   "execution_count": null,
   "id": "a1e7bd34",
   "metadata": {
    "scrolled": true
   },
   "outputs": [],
   "source": [
    "%%sh\n",
    "papermill ./create_research_dirs.ipynb ./output/log_create_reearch_dirs.ipynb -f ./param_files/params_create_research_dirs.yaml"
   ]
  },
  {
   "cell_type": "markdown",
   "id": "d2309320",
   "metadata": {},
   "source": [
    "## 2. データガバナンス機能へ作成したディレクトリ情報を書き戻し\n",
    "\n",
    "- 上部のツールバーにある「Run」ボタンをクリックすることで以下のセルを実行すると、作成したディレクトリ情報をデータガバナンス機能へ書き戻します。この処理には数秒程度かかることがあります。"
   ]
  },
  {
   "cell_type": "code",
   "execution_count": null,
   "id": "881c6232",
   "metadata": {},
   "outputs": [],
   "source": [
    "%%sh\n",
    "papermill ./datalad_push.ipynb ./output/log_datalad_push.ipynb -f ./param_files/params_datalad_push.yaml"
   ]
  },
  {
   "cell_type": "code",
   "execution_count": null,
   "id": "e77674c7",
   "metadata": {},
   "outputs": [],
   "source": []
  }
 ],
 "metadata": {
  "kernelspec": {
   "display_name": "Python 3",
   "language": "python",
   "name": "python3"
  },
  "language_info": {
   "codemirror_mode": {
    "name": "ipython",
    "version": 3
   },
   "file_extension": ".py",
   "mimetype": "text/x-python",
   "name": "python",
   "nbconvert_exporter": "python",
   "pygments_lexer": "ipython3",
   "version": "3.8.12"
  }
 },
 "nbformat": 4,
 "nbformat_minor": 5
}
