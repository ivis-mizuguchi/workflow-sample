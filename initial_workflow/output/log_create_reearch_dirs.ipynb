{
 "cells": [
  {
   "cell_type": "markdown",
   "id": "2083f8c7",
   "metadata": {
    "papermill": {
     "duration": 0.002766,
     "end_time": "2021-12-01T01:30:49.302907",
     "exception": false,
     "start_time": "2021-12-01T01:30:49.300141",
     "status": "completed"
    },
    "tags": []
   },
   "source": [
    "# 研究ディレクトリ作成用ノートブック\n",
    "\n",
    "これはDMP情報に基づき、研究ディレクトリを作成するためのノートブックです。  \n",
    "システムによってパラメタライズされるため、手動での実行は非推奨です。"
   ]
  },
  {
   "cell_type": "code",
   "execution_count": 1,
   "id": "896b6dfe",
   "metadata": {
    "execution": {
     "iopub.execute_input": "2021-12-01T01:30:49.310314Z",
     "iopub.status.busy": "2021-12-01T01:30:49.309963Z",
     "iopub.status.idle": "2021-12-01T01:30:49.311300Z",
     "shell.execute_reply": "2021-12-01T01:30:49.311563Z"
    },
    "papermill": {
     "duration": 0.006526,
     "end_time": "2021-12-01T01:30:49.311675",
     "exception": false,
     "start_time": "2021-12-01T01:30:49.305149",
     "status": "completed"
    },
    "tags": [
     "parameters"
    ]
   },
   "outputs": [],
   "source": [
    "DMP_PATH      = \"\" # DMP_PATH is override by papermill\n",
    "RESEARCH_PATH = \"\" # RESEARCH_PATH is override by papermill"
   ]
  },
  {
   "cell_type": "code",
   "execution_count": 2,
   "id": "447d1af7",
   "metadata": {
    "execution": {
     "iopub.execute_input": "2021-12-01T01:30:49.318009Z",
     "iopub.status.busy": "2021-12-01T01:30:49.317641Z",
     "iopub.status.idle": "2021-12-01T01:30:49.319055Z",
     "shell.execute_reply": "2021-12-01T01:30:49.319357Z"
    },
    "papermill": {
     "duration": 0.005732,
     "end_time": "2021-12-01T01:30:49.319458",
     "exception": false,
     "start_time": "2021-12-01T01:30:49.313726",
     "status": "completed"
    },
    "tags": [
     "injected-parameters"
    ]
   },
   "outputs": [],
   "source": [
    "# Parameters\n",
    "DMP_PATH = \"/home/jovyan/dmp.json\"\n",
    "RESEARCH_PATH = \"/home/jovyan/researches/\"\n"
   ]
  },
  {
   "cell_type": "code",
   "execution_count": 3,
   "id": "982895b5",
   "metadata": {
    "execution": {
     "iopub.execute_input": "2021-12-01T01:30:49.326562Z",
     "iopub.status.busy": "2021-12-01T01:30:49.326186Z",
     "iopub.status.idle": "2021-12-01T01:30:49.328872Z",
     "shell.execute_reply": "2021-12-01T01:30:49.329133Z"
    },
    "papermill": {
     "duration": 0.007854,
     "end_time": "2021-12-01T01:30:49.329213",
     "exception": false,
     "start_time": "2021-12-01T01:30:49.321359",
     "status": "completed"
    },
    "tags": [
     "parameters"
    ]
   },
   "outputs": [],
   "source": [
    "import os\n",
    "import csv\n",
    "import json\n",
    "from collections import OrderedDict\n",
    "import pprint\n",
    "\n",
    "with open(DMP_PATH, 'r') as f:\n",
    "#     line = [row for row in csv.reader(f)]\n",
    "    jsn = json.load(f)\n",
    "\n",
    "for research in jsn['researches']:\n",
    "    os.makedirs(RESEARCH_PATH+research['title'])\n",
    "    with open(RESEARCH_PATH+research['title']+\"/README.md\", mode='w') as f:\n",
    "        f.write(\"# \"+research['title'])\n",
    "        \n",
    "#     print(jsn['researches'][0]['title'])\n",
    "#     pprint.pprint(jsn, width=40)"
   ]
  }
 ],
 "metadata": {
  "celltoolbar": "Tags",
  "kernelspec": {
   "display_name": "Python 3",
   "language": "python",
   "name": "python3"
  },
  "language_info": {
   "codemirror_mode": {
    "name": "ipython",
    "version": 3
   },
   "file_extension": ".py",
   "mimetype": "text/x-python",
   "name": "python",
   "nbconvert_exporter": "python",
   "pygments_lexer": "ipython3",
   "version": "3.8.12"
  },
  "papermill": {
   "default_parameters": {},
   "duration": 0.979617,
   "end_time": "2021-12-01T01:30:49.535647",
   "environment_variables": {},
   "exception": null,
   "input_path": "./create_research_dirs.ipynb",
   "output_path": "./output/log_create_reearch_dirs.ipynb",
   "parameters": {
    "DMP_PATH": "/home/jovyan/dmp.json",
    "RESEARCH_PATH": "/home/jovyan/researches/"
   },
   "start_time": "2021-12-01T01:30:48.556030",
   "version": "2.3.3"
  }
 },
 "nbformat": 4,
 "nbformat_minor": 5
}