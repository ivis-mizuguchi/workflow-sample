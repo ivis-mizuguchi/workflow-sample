{
 "cells": [
  {
   "cell_type": "code",
   "execution_count": 1,
   "id": "cc6c7f67",
   "metadata": {
    "execution": {
     "iopub.execute_input": "2021-12-01T01:33:39.483500Z",
     "iopub.status.busy": "2021-12-01T01:33:39.483095Z",
     "iopub.status.idle": "2021-12-01T01:33:39.484526Z",
     "shell.execute_reply": "2021-12-01T01:33:39.484830Z"
    },
    "papermill": {
     "duration": 0.009084,
     "end_time": "2021-12-01T01:33:39.484958",
     "exception": false,
     "start_time": "2021-12-01T01:33:39.475874",
     "status": "completed"
    },
    "tags": [
     "parameters"
    ]
   },
   "outputs": [],
   "source": [
    "# CWD = \"/home/jovyan\"\n",
    "# save_path = \"researches\"\n",
    "# save_message = \"update: modify on binder\"\n",
    "# SIBLING_NAME = \"gin\"\n",
    "# DEFAULT_BRANCH = \"origin\"\n",
    "# HTTP_HOST = \"http://dg02.dg.rcos.nii.ac.jp/\"\n",
    "# SSH_HOST = \"ssh://root@dg02.dg.rcos.nii.ac.jp:3001/\"\n",
    "\n",
    "CWD = \"\"\n",
    "save_path = \"\"\n",
    "save_message = \"\"\n",
    "SIBLING_NAME = \"\"\n",
    "DEFAULT_BRANCH = \"\"\n",
    "HTTP_HOST = \"\"\n",
    "SSH_HOST = \"\""
   ]
  },
  {
   "cell_type": "code",
   "execution_count": 2,
   "id": "39e698f8",
   "metadata": {
    "execution": {
     "iopub.execute_input": "2021-12-01T01:33:39.495338Z",
     "iopub.status.busy": "2021-12-01T01:33:39.494955Z",
     "iopub.status.idle": "2021-12-01T01:33:39.496698Z",
     "shell.execute_reply": "2021-12-01T01:33:39.496370Z"
    },
    "papermill": {
     "duration": 0.00767,
     "end_time": "2021-12-01T01:33:39.496774",
     "exception": false,
     "start_time": "2021-12-01T01:33:39.489104",
     "status": "completed"
    },
    "tags": [
     "injected-parameters"
    ]
   },
   "outputs": [],
   "source": [
    "# Parameters\n",
    "CWD = \"/home/jovyan\"\n",
    "SIBLING_NAME = \"gin\"\n",
    "DEFAULT_BRANCH = \"origin\"\n",
    "HTTP_HOST = \"http://dg02.dg.rcos.nii.ac.jp/\"\n",
    "SSH_HOST = \"ssh://root@dg02.dg.rcos.nii.ac.jp:3001/\"\n",
    "save_path = \"researches\"\n",
    "save_message = \"update: modify on binder\"\n"
   ]
  },
  {
   "cell_type": "code",
   "execution_count": 3,
   "id": "0390e0cf",
   "metadata": {
    "execution": {
     "iopub.execute_input": "2021-12-01T01:33:39.505771Z",
     "iopub.status.busy": "2021-12-01T01:33:39.505403Z",
     "iopub.status.idle": "2021-12-01T01:33:39.507063Z",
     "shell.execute_reply": "2021-12-01T01:33:39.506701Z"
    },
    "papermill": {
     "duration": 0.006897,
     "end_time": "2021-12-01T01:33:39.507147",
     "exception": false,
     "start_time": "2021-12-01T01:33:39.500250",
     "status": "completed"
    },
    "tags": []
   },
   "outputs": [],
   "source": [
    "import os\n",
    "\n",
    "os.chdir(CWD)"
   ]
  },
  {
   "cell_type": "code",
   "execution_count": 4,
   "id": "4b2dedc6",
   "metadata": {
    "execution": {
     "iopub.execute_input": "2021-12-01T01:33:39.515908Z",
     "iopub.status.busy": "2021-12-01T01:33:39.515543Z",
     "iopub.status.idle": "2021-12-01T01:33:40.209471Z",
     "shell.execute_reply": "2021-12-01T01:33:40.209815Z"
    },
    "papermill": {
     "duration": 0.699542,
     "end_time": "2021-12-01T01:33:40.209948",
     "exception": false,
     "start_time": "2021-12-01T01:33:39.510406",
     "status": "completed"
    },
    "tags": []
   },
   "outputs": [
    {
     "data": {
      "text/plain": [
       "[{'action': 'save',\n",
       "  'type': 'dataset',\n",
       "  'path': '/home/jovyan',\n",
       "  'refds': '/home/jovyan',\n",
       "  'status': 'notneeded'}]"
      ]
     },
     "execution_count": 4,
     "metadata": {},
     "output_type": "execute_result"
    }
   ],
   "source": [
    "from datalad import api\n",
    "\n",
    "api.save(path=save_path, message=save_message)"
   ]
  },
  {
   "cell_type": "code",
   "execution_count": 5,
   "id": "686b8f0c",
   "metadata": {
    "execution": {
     "iopub.execute_input": "2021-12-01T01:33:40.227547Z",
     "iopub.status.busy": "2021-12-01T01:33:40.227146Z",
     "iopub.status.idle": "2021-12-01T01:33:40.238684Z",
     "shell.execute_reply": "2021-12-01T01:33:40.238351Z"
    },
    "papermill": {
     "duration": 0.024225,
     "end_time": "2021-12-01T01:33:40.238766",
     "exception": false,
     "start_time": "2021-12-01T01:33:40.214541",
     "status": "completed"
    },
    "tags": []
   },
   "outputs": [],
   "source": [
    "%%sh\n",
    "chmod 600 /home/jovyan/.ssh/id_rsa"
   ]
  },
  {
   "cell_type": "code",
   "execution_count": 6,
   "id": "00bbba5d",
   "metadata": {
    "execution": {
     "iopub.execute_input": "2021-12-01T01:33:40.252126Z",
     "iopub.status.busy": "2021-12-01T01:33:40.251789Z",
     "iopub.status.idle": "2021-12-01T01:33:40.288023Z",
     "shell.execute_reply": "2021-12-01T01:33:40.288302Z"
    },
    "papermill": {
     "duration": 0.045542,
     "end_time": "2021-12-01T01:33:40.288419",
     "exception": false,
     "start_time": "2021-12-01T01:33:40.242877",
     "status": "completed"
    },
    "tags": []
   },
   "outputs": [
    {
     "name": "stderr",
     "output_type": "stream",
     "text": [
      "mkdir: cannot create directory ‘./tmp’: File exists\n"
     ]
    }
   ],
   "source": [
    "%%sh\n",
    "mkdir ./tmp\n",
    "git remote show origin > ./tmp/remote.txt"
   ]
  },
  {
   "cell_type": "code",
   "execution_count": 7,
   "id": "0ade0beb",
   "metadata": {
    "execution": {
     "iopub.execute_input": "2021-12-01T01:33:40.299895Z",
     "iopub.status.busy": "2021-12-01T01:33:40.299270Z",
     "iopub.status.idle": "2021-12-01T01:33:42.369466Z",
     "shell.execute_reply": "2021-12-01T01:33:42.369772Z"
    },
    "papermill": {
     "duration": 2.077536,
     "end_time": "2021-12-01T01:33:42.369901",
     "exception": false,
     "start_time": "2021-12-01T01:33:40.292365",
     "status": "completed"
    },
    "tags": []
   },
   "outputs": [
    {
     "name": "stdout",
     "output_type": "stream",
     "text": [
      "add-sibling"
     ]
    },
    {
     "name": "stdout",
     "output_type": "stream",
     "text": [
      "("
     ]
    },
    {
     "name": "stdout",
     "output_type": "stream",
     "text": [
      "error"
     ]
    },
    {
     "name": "stdout",
     "output_type": "stream",
     "text": [
      "): . ("
     ]
    },
    {
     "name": "stdout",
     "output_type": "stream",
     "text": [
      "sibling"
     ]
    },
    {
     "name": "stdout",
     "output_type": "stream",
     "text": [
      ") [sibling is already known: gin, use `configure` instead?]"
     ]
    },
    {
     "name": "stdout",
     "output_type": "stream",
     "text": [
      "\n"
     ]
    },
    {
     "name": "stderr",
     "output_type": "stream",
     "text": [
      "[INFO] Determine push target \n"
     ]
    },
    {
     "name": "stderr",
     "output_type": "stream",
     "text": [
      "[INFO] Push refspecs \n"
     ]
    },
    {
     "name": "stderr",
     "output_type": "stream",
     "text": [
      "[INFO] Transfer data \n"
     ]
    },
    {
     "name": "stderr",
     "output_type": "stream",
     "text": [
      "[INFO] Update availability information \n"
     ]
    },
    {
     "name": "stderr",
     "output_type": "stream",
     "text": [
      "[INFO] Start enumerating objects \n"
     ]
    },
    {
     "name": "stderr",
     "output_type": "stream",
     "text": [
      "[INFO] Start counting objects \n"
     ]
    },
    {
     "name": "stderr",
     "output_type": "stream",
     "text": [
      "[INFO] Start compressing objects \n"
     ]
    },
    {
     "name": "stderr",
     "output_type": "stream",
     "text": [
      "[INFO] Start writing objects \n"
     ]
    },
    {
     "name": "stdout",
     "output_type": "stream",
     "text": [
      "publish"
     ]
    },
    {
     "name": "stdout",
     "output_type": "stream",
     "text": [
      "("
     ]
    },
    {
     "name": "stdout",
     "output_type": "stream",
     "text": [
      "ok"
     ]
    },
    {
     "name": "stdout",
     "output_type": "stream",
     "text": [
      "): . ("
     ]
    },
    {
     "name": "stdout",
     "output_type": "stream",
     "text": [
      "dataset"
     ]
    },
    {
     "name": "stdout",
     "output_type": "stream",
     "text": [
      ") [refs/heads/master->gin:refs/heads/master 1685431..a0fdf7c]"
     ]
    },
    {
     "name": "stdout",
     "output_type": "stream",
     "text": [
      "\n"
     ]
    },
    {
     "name": "stderr",
     "output_type": "stream",
     "text": [
      "[INFO] Finished push of Dataset(/home/jovyan) \n"
     ]
    },
    {
     "name": "stdout",
     "output_type": "stream",
     "text": [
      "action summary:\n",
      "  publish (notneeded: 1, ok: 1)"
     ]
    },
    {
     "name": "stdout",
     "output_type": "stream",
     "text": [
      "\n"
     ]
    },
    {
     "data": {
      "text/plain": [
       "[{'action': 'publish',\n",
       "  'refds': '/home/jovyan',\n",
       "  'type': 'dataset',\n",
       "  'path': '/home/jovyan',\n",
       "  'status': 'notneeded',\n",
       "  'target': 'gin',\n",
       "  'refspec': 'refs/heads/git-annex:refs/heads/git-annex',\n",
       "  'operations': ['uptodate'],\n",
       "  'hints': None,\n",
       "  'message': 'refs/heads/git-annex->gin:refs/heads/git-annex [up to date]'},\n",
       " {'action': 'publish',\n",
       "  'refds': '/home/jovyan',\n",
       "  'type': 'dataset',\n",
       "  'path': '/home/jovyan',\n",
       "  'status': 'ok',\n",
       "  'target': 'gin',\n",
       "  'refspec': 'refs/heads/master:refs/heads/master',\n",
       "  'operations': ['fast-forward'],\n",
       "  'hints': None,\n",
       "  'message': 'refs/heads/master->gin:refs/heads/master 1685431..a0fdf7c'}]"
      ]
     },
     "execution_count": 7,
     "metadata": {},
     "output_type": "execute_result"
    }
   ],
   "source": [
    "from datalad import api\n",
    "\n",
    "# SSHでの接続URLを生成\n",
    "with open('./tmp/remote.txt', 'r') as f:\n",
    "    lines = [s.strip() for s in f.readlines()]\n",
    "    ssh_remote = lines[2].replace('Push  URL: '+HTTP_HOST, SSH_HOST)\n",
    "\n",
    "try:\n",
    "    api.siblings(action='add', name=SIBLING_NAME, url=ssh_remote)\n",
    "except:\n",
    "    pass\n",
    "\n",
    "api.push(to=SIBLING_NAME, result_renderer='default')"
   ]
  },
  {
   "cell_type": "code",
   "execution_count": 8,
   "id": "9bc74cfa",
   "metadata": {
    "execution": {
     "iopub.execute_input": "2021-12-01T01:33:42.389053Z",
     "iopub.status.busy": "2021-12-01T01:33:42.388690Z",
     "iopub.status.idle": "2021-12-01T01:33:42.396084Z",
     "shell.execute_reply": "2021-12-01T01:33:42.396401Z"
    },
    "papermill": {
     "duration": 0.018255,
     "end_time": "2021-12-01T01:33:42.396505",
     "exception": false,
     "start_time": "2021-12-01T01:33:42.378250",
     "status": "completed"
    },
    "tags": []
   },
   "outputs": [],
   "source": [
    "%%sh\n",
    "rm -r ./tmp"
   ]
  }
 ],
 "metadata": {
  "celltoolbar": "Tags",
  "kernelspec": {
   "display_name": "Python 3",
   "language": "python",
   "name": "python3"
  },
  "language_info": {
   "codemirror_mode": {
    "name": "ipython",
    "version": 3
   },
   "file_extension": ".py",
   "mimetype": "text/x-python",
   "name": "python",
   "nbconvert_exporter": "python",
   "pygments_lexer": "ipython3",
   "version": "3.8.12"
  },
  "papermill": {
   "duration": 3.981849,
   "end_time": "2021-12-01T01:33:42.710072",
   "environment_variables": {},
   "exception": null,
   "input_path": "./datalad_push.ipynb",
   "output_path": "./output/log_datalad_push.ipynb",
   "parameters": {
    "CWD": "/home/jovyan",
    "DEFAULT_BRANCH": "origin",
    "HTTP_HOST": "http://dg02.dg.rcos.nii.ac.jp/",
    "SIBLING_NAME": "gin",
    "SSH_HOST": "ssh://root@dg02.dg.rcos.nii.ac.jp:3001/",
    "save_message": "update: modify on binder",
    "save_path": "researches"
   },
   "start_time": "2021-12-01T01:33:38.728223",
   "version": null
  }
 },
 "nbformat": 4,
 "nbformat_minor": 5
}