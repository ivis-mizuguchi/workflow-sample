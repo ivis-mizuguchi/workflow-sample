{
 "cells": [
  {
   "cell_type": "markdown",
   "id": "83c7b136",
   "metadata": {},
   "source": [
    "# 研究ディレクトリ作成用ノートブック\n",
    "\n",
    "これはDMP情報に基づき、研究ディレクトリを作成するためのノートブックです。  \n",
    "システムによってパラメタライズされるため、手動での実行は非推奨です。"
   ]
  },
  {
   "cell_type": "code",
   "execution_count": null,
   "id": "7bddb545",
   "metadata": {
    "tags": [
     "parameters"
    ]
   },
   "outputs": [],
   "source": [
    "DMP_PATH      = \"\" # DMP_PATH is override by papermill\n",
    "RESEARCH_PATH = \"\" # RESEARCH_PATH is override by papermill"
   ]
  },
  {
   "cell_type": "code",
   "execution_count": null,
   "id": "bd4dc1e1",
   "metadata": {
    "tags": [
     "parameters"
    ]
   },
   "outputs": [],
   "source": [
    "import os\n",
    "import csv\n",
    "import json\n",
    "from collections import OrderedDict\n",
    "import pprint\n",
    "\n",
    "with open(DMP_PATH, 'r') as f:\n",
    "#     line = [row for row in csv.reader(f)]\n",
    "    jsn = json.load(f)\n",
    "\n",
    "for research in jsn['researches']:\n",
    "    os.makedirs(RESEARCH_PATH+research['title'])\n",
    "    with open(RESEARCH_PATH+research['title']+\"/README.md\", mode='w') as f:\n",
    "        f.write(\"# \"+research['title'])\n",
    "        \n",
    "#     print(jsn['researches'][0]['title'])\n",
    "#     pprint.pprint(jsn, width=40)"
   ]
  }
 ],
 "metadata": {
  "celltoolbar": "Tags",
  "kernelspec": {
   "display_name": "Python 3",
   "language": "python",
   "name": "python3"
  },
  "language_info": {
   "codemirror_mode": {
    "name": "ipython",
    "version": 3
   },
   "file_extension": ".py",
   "mimetype": "text/x-python",
   "name": "python",
   "nbconvert_exporter": "python",
   "pygments_lexer": "ipython3",
   "version": "3.8.12"
  }
 },
 "nbformat": 4,
 "nbformat_minor": 5
}
