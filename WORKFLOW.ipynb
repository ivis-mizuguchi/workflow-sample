{
 "cells": [
  {
   "cell_type": "markdown",
   "id": "3e933a36",
   "metadata": {},
   "source": [
    "# 研究ワークフロー\n",
    "\n",
    "## 1. 研究準備\n",
    "\n",
    "initial_workflowをcloneする手順\n",
    "\n",
    "```\n",
    "%%sh\n",
    "git clone initial_workflow.git\n",
    "papermill initial_workflow/initial.ipynb\n",
    "```\n",
    "\n",
    "## 2. 実験実施\n",
    "\n",
    "expel_workflowをcloneする手順\n",
    "\n",
    "%%sh\n",
    "git clone ...\n",
    "papermill ...\n",
    "\n",
    "## 3. 再現性確保\n",
    "\n",
    "ploomber_workflowをclone\n",
    "\n",
    "...公開までの一連の流れを大きく定義"
   ]
  },
  {
   "cell_type": "code",
   "execution_count": null,
   "id": "3aa8c483",
   "metadata": {},
   "outputs": [],
   "source": []
  }
 ],
 "metadata": {
  "kernelspec": {
   "display_name": "Python 3",
   "language": "python",
   "name": "python3"
  },
  "language_info": {
   "codemirror_mode": {
    "name": "ipython",
    "version": 3
   },
   "file_extension": ".py",
   "mimetype": "text/x-python",
   "name": "python",
   "nbconvert_exporter": "python",
   "pygments_lexer": "ipython3",
   "version": "3.8.12"
  }
 },
 "nbformat": 4,
 "nbformat_minor": 5
}
